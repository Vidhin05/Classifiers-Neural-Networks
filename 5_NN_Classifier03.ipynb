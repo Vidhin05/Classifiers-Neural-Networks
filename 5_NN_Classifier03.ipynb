{
 "cells": [
  {
   "cell_type": "markdown",
   "metadata": {},
   "source": [
    "# Text Classifier\n",
    "## Raw Text"
   ]
  },
  {
   "cell_type": "code",
   "execution_count": 1,
   "metadata": {},
   "outputs": [
    {
     "name": "stderr",
     "output_type": "stream",
     "text": [
      "/Users/rutvikshah/anaconda3/lib/python3.6/site-packages/h5py/__init__.py:36: FutureWarning: Conversion of the second argument of issubdtype from `float` to `np.floating` is deprecated. In future, it will be treated as `np.float64 == np.dtype(float).type`.\n",
      "  from ._conv import register_converters as _register_converters\n"
     ]
    }
   ],
   "source": [
    "import tensorflow as tf\n",
    "from tensorflow import keras\n",
    "import pandas as pd\n",
    "import numpy as np\n",
    "import seaborn as sns\n",
    "import matplotlib.pyplot as plt\n",
    "import os\n",
    "\n",
    "tf.logging.set_verbosity(tf.logging.ERROR)\n",
    "pd.options.display.max_rows = 7"
   ]
  },
  {
   "cell_type": "markdown",
   "metadata": {},
   "source": [
    "## Getting the Data"
   ]
  },
  {
   "cell_type": "code",
   "execution_count": 2,
   "metadata": {},
   "outputs": [],
   "source": [
    "data = keras.datasets.imdb\n",
    "(train_data, train_labels), (test_data, test_labels) = data.load_data(num_words=10000)"
   ]
  },
  {
   "cell_type": "code",
   "execution_count": 3,
   "metadata": {},
   "outputs": [
    {
     "name": "stdout",
     "output_type": "stream",
     "text": [
      "Train Dataset Dimensions :  25000 25000\n",
      "Test  Dataset Dimensions :  25000 25000\n"
     ]
    }
   ],
   "source": [
    "print(\"Train Dataset Dimensions : \",train_data.shape[0],train_labels.shape[0])\n",
    "print(\"Test  Dataset Dimensions : \",test_data.shape[0],test_labels.shape[0])"
   ]
  },
  {
   "cell_type": "code",
   "execution_count": 4,
   "metadata": {},
   "outputs": [
    {
     "data": {
      "text/html": [
       "<div>\n",
       "<style scoped>\n",
       "    .dataframe tbody tr th:only-of-type {\n",
       "        vertical-align: middle;\n",
       "    }\n",
       "\n",
       "    .dataframe tbody tr th {\n",
       "        vertical-align: top;\n",
       "    }\n",
       "\n",
       "    .dataframe thead th {\n",
       "        text-align: right;\n",
       "    }\n",
       "</style>\n",
       "<table border=\"1\" class=\"dataframe\">\n",
       "  <thead>\n",
       "    <tr style=\"text-align: right;\">\n",
       "      <th></th>\n",
       "      <th>Reviews</th>\n",
       "    </tr>\n",
       "  </thead>\n",
       "  <tbody>\n",
       "    <tr>\n",
       "      <th>0</th>\n",
       "      <td>[1, 14, 22, 16, 43, 530, 973, 1622, 1385, 65, ...</td>\n",
       "    </tr>\n",
       "    <tr>\n",
       "      <th>1</th>\n",
       "      <td>[1, 194, 1153, 194, 8255, 78, 228, 5, 6, 1463,...</td>\n",
       "    </tr>\n",
       "    <tr>\n",
       "      <th>2</th>\n",
       "      <td>[1, 14, 47, 8, 30, 31, 7, 4, 249, 108, 7, 4, 5...</td>\n",
       "    </tr>\n",
       "    <tr>\n",
       "      <th>...</th>\n",
       "      <td>...</td>\n",
       "    </tr>\n",
       "    <tr>\n",
       "      <th>24997</th>\n",
       "      <td>[1, 11, 6, 230, 245, 6401, 9, 6, 1225, 446, 2,...</td>\n",
       "    </tr>\n",
       "    <tr>\n",
       "      <th>24998</th>\n",
       "      <td>[1, 1446, 7079, 69, 72, 3305, 13, 610, 930, 8,...</td>\n",
       "    </tr>\n",
       "    <tr>\n",
       "      <th>24999</th>\n",
       "      <td>[1, 17, 6, 194, 337, 7, 4, 204, 22, 45, 254, 8...</td>\n",
       "    </tr>\n",
       "  </tbody>\n",
       "</table>\n",
       "<p>25000 rows × 1 columns</p>\n",
       "</div>"
      ],
      "text/plain": [
       "                                                 Reviews\n",
       "0      [1, 14, 22, 16, 43, 530, 973, 1622, 1385, 65, ...\n",
       "1      [1, 194, 1153, 194, 8255, 78, 228, 5, 6, 1463,...\n",
       "2      [1, 14, 47, 8, 30, 31, 7, 4, 249, 108, 7, 4, 5...\n",
       "...                                                  ...\n",
       "24997  [1, 11, 6, 230, 245, 6401, 9, 6, 1225, 446, 2,...\n",
       "24998  [1, 1446, 7079, 69, 72, 3305, 13, 610, 930, 8,...\n",
       "24999  [1, 17, 6, 194, 337, 7, 4, 204, 22, 45, 254, 8...\n",
       "\n",
       "[25000 rows x 1 columns]"
      ]
     },
     "execution_count": 4,
     "metadata": {},
     "output_type": "execute_result"
    }
   ],
   "source": [
    "pd.DataFrame(train_data, columns=['Reviews'])"
   ]
  },
  {
   "cell_type": "code",
   "execution_count": 5,
   "metadata": {},
   "outputs": [
    {
     "data": {
      "text/html": [
       "<div>\n",
       "<style scoped>\n",
       "    .dataframe tbody tr th:only-of-type {\n",
       "        vertical-align: middle;\n",
       "    }\n",
       "\n",
       "    .dataframe tbody tr th {\n",
       "        vertical-align: top;\n",
       "    }\n",
       "\n",
       "    .dataframe thead th {\n",
       "        text-align: right;\n",
       "    }\n",
       "</style>\n",
       "<table border=\"1\" class=\"dataframe\">\n",
       "  <thead>\n",
       "    <tr style=\"text-align: right;\">\n",
       "      <th></th>\n",
       "      <th>Reviews</th>\n",
       "    </tr>\n",
       "  </thead>\n",
       "  <tbody>\n",
       "    <tr>\n",
       "      <th>0</th>\n",
       "      <td>[1, 591, 202, 14, 31, 6, 717, 10, 10, 2, 2, 5,...</td>\n",
       "    </tr>\n",
       "    <tr>\n",
       "      <th>1</th>\n",
       "      <td>[1, 14, 22, 3443, 6, 176, 7, 5063, 88, 12, 267...</td>\n",
       "    </tr>\n",
       "    <tr>\n",
       "      <th>2</th>\n",
       "      <td>[1, 111, 748, 4368, 1133, 2, 2, 4, 87, 1551, 1...</td>\n",
       "    </tr>\n",
       "    <tr>\n",
       "      <th>...</th>\n",
       "      <td>...</td>\n",
       "    </tr>\n",
       "    <tr>\n",
       "      <th>24997</th>\n",
       "      <td>[1, 13, 1408, 15, 8, 135, 14, 9, 35, 32, 46, 3...</td>\n",
       "    </tr>\n",
       "    <tr>\n",
       "      <th>24998</th>\n",
       "      <td>[1, 11, 119, 241, 9, 4, 840, 20, 12, 468, 15, ...</td>\n",
       "    </tr>\n",
       "    <tr>\n",
       "      <th>24999</th>\n",
       "      <td>[1, 6, 52, 7465, 430, 22, 9, 220, 2594, 8, 28,...</td>\n",
       "    </tr>\n",
       "  </tbody>\n",
       "</table>\n",
       "<p>25000 rows × 1 columns</p>\n",
       "</div>"
      ],
      "text/plain": [
       "                                                 Reviews\n",
       "0      [1, 591, 202, 14, 31, 6, 717, 10, 10, 2, 2, 5,...\n",
       "1      [1, 14, 22, 3443, 6, 176, 7, 5063, 88, 12, 267...\n",
       "2      [1, 111, 748, 4368, 1133, 2, 2, 4, 87, 1551, 1...\n",
       "...                                                  ...\n",
       "24997  [1, 13, 1408, 15, 8, 135, 14, 9, 35, 32, 46, 3...\n",
       "24998  [1, 11, 119, 241, 9, 4, 840, 20, 12, 468, 15, ...\n",
       "24999  [1, 6, 52, 7465, 430, 22, 9, 220, 2594, 8, 28,...\n",
       "\n",
       "[25000 rows x 1 columns]"
      ]
     },
     "execution_count": 5,
     "metadata": {},
     "output_type": "execute_result"
    }
   ],
   "source": [
    "pd.DataFrame(test_data, columns=['Reviews'])"
   ]
  },
  {
   "cell_type": "markdown",
   "metadata": {},
   "source": [
    "## Integer to Dictionary Values"
   ]
  },
  {
   "cell_type": "code",
   "execution_count": 6,
   "metadata": {},
   "outputs": [],
   "source": [
    "dict_stamp = data.get_word_index()\n",
    "dict_stamp = {k:(v+3) for k,v in dict_stamp.items()} \n",
    "dict_stamp[\"<PAD>\"] = 0\n",
    "dict_stamp[\"<START>\"] = 1\n",
    "dict_stamp[\"<UNK>\"] = 2  \n",
    "dict_stamp[\"<UNUSED>\"] = 3\n",
    "\n",
    "reverse_dict_stamp = dict([(value, key) for (key, value) in dict_stamp.items()])\n",
    "\n",
    "def decode_review(text):\n",
    "    return ' '.join([reverse_dict_stamp.get(i, '?') for i in text])"
   ]
  },
  {
   "cell_type": "code",
   "execution_count": 20,
   "metadata": {},
   "outputs": [
    {
     "data": {
      "text/plain": [
       "88588"
      ]
     },
     "execution_count": 20,
     "metadata": {},
     "output_type": "execute_result"
    }
   ],
   "source": [
    "len(reverse_dict_stamp)"
   ]
  },
  {
   "cell_type": "code",
   "execution_count": 7,
   "metadata": {},
   "outputs": [
    {
     "data": {
      "text/plain": [
       "\"<START> this film was just brilliant casting location scenery story direction everyone's really suited the part they played and you could just imagine being there robert <UNK> is an amazing actor and now the same being director <UNK> father came from the same scottish island as myself so i loved the fact there was a real connection with this film the witty remarks throughout the film were great it was just brilliant so much that i bought the film as soon as it was released for <UNK> and would recommend it to everyone to watch and the fly fishing was amazing really cried at the end it was so sad and you know what they say if you cry at a film it must have been good and this definitely was also <UNK> to the two little boy's that played the <UNK> of norman and paul they were just brilliant children are often left out of the <UNK> list i think because the stars that play them all grown up are such a big profile for the whole film but these children are amazing and should be praised for what they have done don't you think the whole story was so lovely because it was true and was someone's life after all that was shared with us all\""
      ]
     },
     "execution_count": 7,
     "metadata": {},
     "output_type": "execute_result"
    }
   ],
   "source": [
    "decode_review(train_data[0])"
   ]
  },
  {
   "cell_type": "markdown",
   "metadata": {},
   "source": [
    "## Preprocessing"
   ]
  },
  {
   "cell_type": "code",
   "execution_count": 8,
   "metadata": {},
   "outputs": [
    {
     "data": {
      "text/plain": [
       "(218, 189)"
      ]
     },
     "execution_count": 8,
     "metadata": {},
     "output_type": "execute_result"
    }
   ],
   "source": [
    "len(train_data[0]), len(train_data[1])"
   ]
  },
  {
   "cell_type": "code",
   "execution_count": 9,
   "metadata": {},
   "outputs": [],
   "source": [
    "train_data = keras.preprocessing.sequence.pad_sequences(train_data,value=dict_stamp[\"<PAD>\"],padding='post',maxlen=256)\n",
    "test_data = keras.preprocessing.sequence.pad_sequences(test_data,value=dict_stamp[\"<PAD>\"],padding='post',maxlen=256)"
   ]
  },
  {
   "cell_type": "code",
   "execution_count": 10,
   "metadata": {},
   "outputs": [
    {
     "data": {
      "text/plain": [
       "(256, 256)"
      ]
     },
     "execution_count": 10,
     "metadata": {},
     "output_type": "execute_result"
    }
   ],
   "source": [
    "len(train_data[0]), len(train_data[1])"
   ]
  },
  {
   "cell_type": "code",
   "execution_count": 11,
   "metadata": {},
   "outputs": [
    {
     "name": "stdout",
     "output_type": "stream",
     "text": [
      "<START> this film was just brilliant casting location scenery story direction everyone's really suited the part they played and you could just imagine being there robert <UNK> is an amazing actor and now the same being director <UNK> father came from the same scottish island as myself so i loved the fact there was a real connection with this film the witty remarks throughout the film were great it was just brilliant so much that i bought the film as soon as it was released for <UNK> and would recommend it to everyone to watch and the fly fishing was amazing really cried at the end it was so sad and you know what they say if you cry at a film it must have been good and this definitely was also <UNK> to the two little boy's that played the <UNK> of norman and paul they were just brilliant children are often left out of the <UNK> list i think because the stars that play them all grown up are such a big profile for the whole film but these children are amazing and should be praised for what they have done don't you think the whole story was so lovely because it was true and was someone's life after all that was shared with us all <PAD> <PAD> <PAD> <PAD> <PAD> <PAD> <PAD> <PAD> <PAD> <PAD> <PAD> <PAD> <PAD> <PAD> <PAD> <PAD> <PAD> <PAD> <PAD> <PAD> <PAD> <PAD> <PAD> <PAD> <PAD> <PAD> <PAD> <PAD> <PAD> <PAD> <PAD> <PAD> <PAD> <PAD> <PAD> <PAD> <PAD> <PAD>\n"
     ]
    }
   ],
   "source": [
    "print(decode_review(train_data[0]))"
   ]
  },
  {
   "cell_type": "markdown",
   "metadata": {},
   "source": [
    "### Neural Network\n",
    "##### Structure of the NNs:\n",
    "\n",
    "### Model \n",
    "• Input Feature (Flattened/Linearised)<br>\n",
    "• Hidden Dense Layer 1: Embedding Layer<br>\n",
    "• Hidden Dense Layer 2: Pooling Layer<br>\n",
    "• Hidden Dense Layer 3: Dense layer (AF : RELU)<br>\n",
    "• Output Layer : Dense Layer (AF : SIGMOID)<br>"
   ]
  },
  {
   "cell_type": "code",
   "execution_count": 12,
   "metadata": {},
   "outputs": [
    {
     "name": "stdout",
     "output_type": "stream",
     "text": [
      "_________________________________________________________________\n",
      "Layer (type)                 Output Shape              Param #   \n",
      "=================================================================\n",
      "embedding (Embedding)        (None, None, 16)          160000    \n",
      "_________________________________________________________________\n",
      "global_average_pooling1d (Gl (None, 16)                0         \n",
      "_________________________________________________________________\n",
      "dense (Dense)                (None, 16)                272       \n",
      "_________________________________________________________________\n",
      "dense_1 (Dense)              (None, 1)                 17        \n",
      "=================================================================\n",
      "Total params: 160,289\n",
      "Trainable params: 160,289\n",
      "Non-trainable params: 0\n",
      "_________________________________________________________________\n"
     ]
    }
   ],
   "source": [
    "vocab_size = 10000\n",
    "classifier = keras.Sequential()\n",
    "classifier.add(keras.layers.Embedding(vocab_size, 16))\n",
    "classifier.add(keras.layers.GlobalAveragePooling1D())\n",
    "classifier.add(keras.layers.Dense(16, activation=tf.nn.relu))\n",
    "classifier.add(keras.layers.Dense(1, activation=tf.nn.sigmoid))\n",
    "\n",
    "classifier.summary()"
   ]
  },
  {
   "cell_type": "code",
   "execution_count": 13,
   "metadata": {},
   "outputs": [],
   "source": [
    "classifier.compile(optimizer=tf.train.AdamOptimizer(),loss='binary_crossentropy',metrics=['accuracy'])"
   ]
  },
  {
   "cell_type": "code",
   "execution_count": 14,
   "metadata": {},
   "outputs": [],
   "source": [
    "x_val = train_data[:10000]\n",
    "partial_x_train = train_data[10000:]\n",
    "\n",
    "y_val = train_labels[:10000]\n",
    "partial_y_train = train_labels[10000:]"
   ]
  },
  {
   "cell_type": "code",
   "execution_count": 15,
   "metadata": {},
   "outputs": [
    {
     "name": "stdout",
     "output_type": "stream",
     "text": [
      "Train on 15000 samples, validate on 10000 samples\n",
      "Epoch 1/40\n",
      "15000/15000 [==============================] - 3s 208us/step - loss: 0.6912 - acc: 0.5623 - val_loss: 0.6881 - val_acc: 0.6440\n",
      "Epoch 2/40\n",
      "15000/15000 [==============================] - 2s 149us/step - loss: 0.6820 - acc: 0.6939 - val_loss: 0.6761 - val_acc: 0.7449\n",
      "Epoch 3/40\n",
      "15000/15000 [==============================] - 2s 149us/step - loss: 0.6647 - acc: 0.7567 - val_loss: 0.6560 - val_acc: 0.7540\n",
      "Epoch 4/40\n",
      "15000/15000 [==============================] - 2s 155us/step - loss: 0.6374 - acc: 0.7794 - val_loss: 0.6270 - val_acc: 0.7660\n",
      "Epoch 5/40\n",
      "15000/15000 [==============================] - 2s 160us/step - loss: 0.6003 - acc: 0.8011 - val_loss: 0.5888 - val_acc: 0.7974\n",
      "Epoch 6/40\n",
      "15000/15000 [==============================] - 2s 147us/step - loss: 0.5563 - acc: 0.8232 - val_loss: 0.5473 - val_acc: 0.8157\n",
      "Epoch 7/40\n",
      "15000/15000 [==============================] - 2s 158us/step - loss: 0.5093 - acc: 0.8429 - val_loss: 0.5054 - val_acc: 0.8277\n",
      "Epoch 8/40\n",
      "15000/15000 [==============================] - 2s 151us/step - loss: 0.4638 - acc: 0.8575 - val_loss: 0.4664 - val_acc: 0.8418\n",
      "Epoch 9/40\n",
      "15000/15000 [==============================] - 2s 147us/step - loss: 0.4229 - acc: 0.8682 - val_loss: 0.4326 - val_acc: 0.8492\n",
      "Epoch 10/40\n",
      "15000/15000 [==============================] - 2s 154us/step - loss: 0.3866 - acc: 0.8809 - val_loss: 0.4045 - val_acc: 0.8560\n",
      "Epoch 11/40\n",
      "15000/15000 [==============================] - 2s 153us/step - loss: 0.3560 - acc: 0.8880 - val_loss: 0.3835 - val_acc: 0.8594\n",
      "Epoch 12/40\n",
      "15000/15000 [==============================] - 2s 159us/step - loss: 0.3304 - acc: 0.8938 - val_loss: 0.3623 - val_acc: 0.8683\n",
      "Epoch 13/40\n",
      "15000/15000 [==============================] - 2s 155us/step - loss: 0.3068 - acc: 0.9011 - val_loss: 0.3476 - val_acc: 0.8714\n",
      "Epoch 14/40\n",
      "15000/15000 [==============================] - 2s 149us/step - loss: 0.2872 - acc: 0.9073 - val_loss: 0.3344 - val_acc: 0.8751\n",
      "Epoch 15/40\n",
      "15000/15000 [==============================] - 2s 149us/step - loss: 0.2701 - acc: 0.9114 - val_loss: 0.3242 - val_acc: 0.8779\n",
      "Epoch 16/40\n",
      "15000/15000 [==============================] - 2s 149us/step - loss: 0.2554 - acc: 0.9149 - val_loss: 0.3158 - val_acc: 0.8789\n",
      "Epoch 17/40\n",
      "15000/15000 [==============================] - 2s 152us/step - loss: 0.2410 - acc: 0.9211 - val_loss: 0.3089 - val_acc: 0.8794\n",
      "Epoch 18/40\n",
      "15000/15000 [==============================] - 2s 159us/step - loss: 0.2287 - acc: 0.9247 - val_loss: 0.3031 - val_acc: 0.8814\n",
      "Epoch 19/40\n",
      "15000/15000 [==============================] - 2s 150us/step - loss: 0.2171 - acc: 0.9283 - val_loss: 0.2984 - val_acc: 0.8827\n",
      "Epoch 20/40\n",
      "15000/15000 [==============================] - 2s 151us/step - loss: 0.2070 - acc: 0.9313 - val_loss: 0.2946 - val_acc: 0.8832\n",
      "Epoch 21/40\n",
      "15000/15000 [==============================] - 2s 152us/step - loss: 0.1971 - acc: 0.9355 - val_loss: 0.2917 - val_acc: 0.8847\n",
      "Epoch 22/40\n",
      "15000/15000 [==============================] - 2s 155us/step - loss: 0.1880 - acc: 0.9394 - val_loss: 0.2895 - val_acc: 0.8842\n",
      "Epoch 23/40\n",
      "15000/15000 [==============================] - 2s 151us/step - loss: 0.1797 - acc: 0.9426 - val_loss: 0.2885 - val_acc: 0.8852\n",
      "Epoch 24/40\n",
      "15000/15000 [==============================] - 2s 150us/step - loss: 0.1714 - acc: 0.9467 - val_loss: 0.2867 - val_acc: 0.8851\n",
      "Epoch 25/40\n",
      "15000/15000 [==============================] - 2s 151us/step - loss: 0.1642 - acc: 0.9497 - val_loss: 0.2857 - val_acc: 0.8851\n",
      "Epoch 26/40\n",
      "15000/15000 [==============================] - 2s 151us/step - loss: 0.1569 - acc: 0.9513 - val_loss: 0.2861 - val_acc: 0.8872\n",
      "Epoch 27/40\n",
      "15000/15000 [==============================] - 2s 152us/step - loss: 0.1508 - acc: 0.9544 - val_loss: 0.2865 - val_acc: 0.8857\n",
      "Epoch 28/40\n",
      "15000/15000 [==============================] - 2s 153us/step - loss: 0.1443 - acc: 0.9575 - val_loss: 0.2864 - val_acc: 0.8863\n",
      "Epoch 29/40\n",
      "15000/15000 [==============================] - 2s 153us/step - loss: 0.1385 - acc: 0.9591 - val_loss: 0.2868 - val_acc: 0.8851\n",
      "Epoch 30/40\n",
      "15000/15000 [==============================] - 2s 154us/step - loss: 0.1333 - acc: 0.9613 - val_loss: 0.2879 - val_acc: 0.8860\n",
      "Epoch 31/40\n",
      "15000/15000 [==============================] - 2s 153us/step - loss: 0.1273 - acc: 0.9640 - val_loss: 0.2897 - val_acc: 0.8856\n",
      "Epoch 32/40\n",
      "15000/15000 [==============================] - 2s 154us/step - loss: 0.1226 - acc: 0.9653 - val_loss: 0.2916 - val_acc: 0.8852\n",
      "Epoch 33/40\n",
      "15000/15000 [==============================] - 2s 154us/step - loss: 0.1171 - acc: 0.9679 - val_loss: 0.2937 - val_acc: 0.8855\n",
      "Epoch 34/40\n",
      "15000/15000 [==============================] - 2s 151us/step - loss: 0.1126 - acc: 0.9690 - val_loss: 0.2959 - val_acc: 0.8854\n",
      "Epoch 35/40\n",
      "15000/15000 [==============================] - 2s 152us/step - loss: 0.1086 - acc: 0.9705 - val_loss: 0.2977 - val_acc: 0.8846\n",
      "Epoch 36/40\n",
      "15000/15000 [==============================] - 2s 153us/step - loss: 0.1037 - acc: 0.9727 - val_loss: 0.3006 - val_acc: 0.8843\n",
      "Epoch 37/40\n",
      "15000/15000 [==============================] - 2s 153us/step - loss: 0.0998 - acc: 0.9742 - val_loss: 0.3034 - val_acc: 0.8837\n",
      "Epoch 38/40\n",
      "15000/15000 [==============================] - 2s 152us/step - loss: 0.0963 - acc: 0.9741 - val_loss: 0.3070 - val_acc: 0.8826\n",
      "Epoch 39/40\n",
      "15000/15000 [==============================] - 2s 153us/step - loss: 0.0920 - acc: 0.9766 - val_loss: 0.3097 - val_acc: 0.8826\n",
      "Epoch 40/40\n",
      "15000/15000 [==============================] - 2s 157us/step - loss: 0.0881 - acc: 0.9780 - val_loss: 0.3130 - val_acc: 0.8828\n"
     ]
    }
   ],
   "source": [
    "history = classifier.fit(partial_x_train,\n",
    "                    partial_y_train,\n",
    "                    epochs=40,\n",
    "                    batch_size=512,\n",
    "                    validation_data=(x_val, y_val),\n",
    "                    verbose=1)"
   ]
  },
  {
   "cell_type": "code",
   "execution_count": 16,
   "metadata": {},
   "outputs": [
    {
     "name": "stdout",
     "output_type": "stream",
     "text": [
      "25000/25000 [==============================] - 1s 32us/step\n",
      "[0.33417661135196686, 0.8714]\n"
     ]
    }
   ],
   "source": [
    "results = classifier.evaluate(test_data, test_labels)\n",
    "print(results)"
   ]
  },
  {
   "cell_type": "code",
   "execution_count": 17,
   "metadata": {},
   "outputs": [
    {
     "data": {
      "text/plain": [
       "dict_keys(['val_loss', 'val_acc', 'loss', 'acc'])"
      ]
     },
     "execution_count": 17,
     "metadata": {},
     "output_type": "execute_result"
    }
   ],
   "source": [
    "history_dict = history.history\n",
    "history_dict.keys()"
   ]
  },
  {
   "cell_type": "code",
   "execution_count": 18,
   "metadata": {},
   "outputs": [
    {
     "data": {
      "image/png": "[encoded data removed]",
      "text/plain": [
       "<Figure size 432x288 with 1 Axes>"
      ]
     },
     "metadata": {},
     "output_type": "display_data"
    }
   ],
   "source": [
    "acc = history.history['acc']\n",
    "val_acc = history.history['val_acc']\n",
    "loss = history.history['loss']\n",
    "val_loss = history.history['val_loss']\n",
    "\n",
    "epochs = range(1, len(acc) + 1)\n",
    "\n",
    "plt.plot(epochs, loss, 'bo', label='Training loss')\n",
    "plt.plot(epochs, val_loss, 'b', label='Validation loss')\n",
    "plt.title('Training and validation loss')\n",
    "plt.xlabel('Epochs')\n",
    "plt.ylabel('Loss')\n",
    "plt.legend()\n",
    "plt.show()"
   ]
  },
  {
   "cell_type": "code",
   "execution_count": 19,
   "metadata": {},
   "outputs": [
    {
     "data": {
      "image/png": "[encoded data removed]",
      "text/plain": [
       "<Figure size 432x288 with 1 Axes>"
      ]
     },
     "metadata": {},
     "output_type": "display_data"
    }
   ],
   "source": [
    "plt.clf() \n",
    "acc_values = history_dict['acc']\n",
    "val_acc_values = history_dict['val_acc']\n",
    "\n",
    "plt.plot(epochs, acc, 'bo', label='Training acc')\n",
    "plt.plot(epochs, val_acc, 'b', label='Validation acc')\n",
    "plt.title('Training and validation accuracy')\n",
    "plt.xlabel('Epochs')\n",
    "plt.ylabel('Accuracy')\n",
    "plt.legend()\n",
    "\n",
    "plt.show()"
   ]
  },
  {
   "cell_type": "code",
   "execution_count": null,
   "metadata": {},
   "outputs": [],
   "source": []
  }
 ],
 "metadata": {
  "kernelspec": {
   "display_name": "Python 3",
   "language": "python",
   "name": "python3"
  },
  "language_info": {
   "codemirror_mode": {
    "name": "ipython",
    "version": 3
   },
   "file_extension": ".py",
   "mimetype": "text/x-python",
   "name": "python",
   "nbconvert_exporter": "python",
   "pygments_lexer": "ipython3",
   "version": "3.6.5"
  }
 },
 "nbformat": 4,
 "nbformat_minor": 2
}
